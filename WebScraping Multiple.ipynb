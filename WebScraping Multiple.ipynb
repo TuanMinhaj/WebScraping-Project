{
 "cells": [
  {
   "cell_type": "code",
   "execution_count": 93,
   "metadata": {},
   "outputs": [],
   "source": [
    "#import nessary libraries\n",
    "\n",
    "from bs4 import BeautifulSoup as bs\n",
    "import requests       \n",
    "import smtplib        #sending emails\n",
    "import csv\n",
    "import pandas as pd    #making Dataframes\n"
   ]
  },
  {
   "cell_type": "code",
   "execution_count": 94,
   "metadata": {},
   "outputs": [],
   "source": [
    "#Sending mail for users if price is reduced \n",
    "import os\n",
    "from email.message import EmailMessage\n",
    "import ssl\n",
    "import smtplib\n",
    "from secret import sender_email,password\n",
    "\n",
    "\n",
    "def send_mail():\n",
    "\n",
    "    email_sender = sender_email\n",
    "    email_pasword = password\n",
    "    receiver_email = 'tuanminhajseedin@gmail.com'\n",
    "\n",
    "    subject='The book you want is below $50! Now is your chance to buy!'\n",
    "\n",
    "    body=\"\"\"Tuan, This is the moment we have been waiting for, \n",
    "    now is your chance to pick this great chance. Don't miss this chance\"\"\"\n",
    "\n",
    "\n",
    "    em=EmailMessage()\n",
    "    em['From'] = email_sender\n",
    "    em['To'] = email_receiver\n",
    "    em['Subject'] = subject\n",
    "    em.set_content(body)\n",
    "\n",
    "    context = ssl.create_default_context()\n",
    "\n",
    "    with smtplib.SMTP_SSL('smtp.gmail.com',465,context=context) as smtp:\n",
    "        smtp.login(email_sender,email_pasword)\n",
    "        smtp.sendmail(email_sender,email_receiver,em.as_string())\n",
    "\n",
    "\n",
    "\n",
    "\n",
    "    "
   ]
  },
  {
   "attachments": {},
   "cell_type": "markdown",
   "metadata": {},
   "source": [
    "#### Method 01 for load data into csv"
   ]
  },
  {
   "cell_type": "code",
   "execution_count": 98,
   "metadata": {},
   "outputs": [],
   "source": [
    "#initiate a csv file to load the scraped data\n",
    "headers=['Title','Star','Price','Availability']\n",
    "with open('books_Web_Scraper_Dataset.csv','w',newline='',encoding='UTF8') as f:\n",
    "    writer=csv.writer(f)\n",
    "    writer.writerow(headers)"
   ]
  },
  {
   "cell_type": "code",
   "execution_count": 117,
   "metadata": {},
   "outputs": [],
   "source": [
    "#connecting to the website and scrape all the data from the website and take into local\n",
    "books=[]\n",
    "def book_details():\n",
    "    for i in range(1,51):\n",
    "        url=f'https://books.toscrape.com/catalogue/page-{i}.html'\n",
    "        # print(url)\n",
    "\n",
    "        page=requests.get(url)\n",
    "        soup1=bs(page.content,\"html.parser\")   #pulling all the html from the website\n",
    "        \n",
    "        #find searching under tag name of ol(order_list) and find by article with required class\n",
    "        order_list=soup1.find('ol')\n",
    "        articles=order_list.find_all('article',class_='product_pod')\n",
    "\n",
    "        \n",
    "        \n",
    "        #retrieve all the titles inside the articles and taking the all titles in the first page\n",
    "        for article in articles:        #looping through each articles\n",
    "            image=article.find('img')       #find all img tags\n",
    "            title=image.attrs['alt']        #filter out the title with it attributes\n",
    "            star=article.find('p')          #star ratings are under p tags we can straight scrape it\n",
    "            star=star['class'][1]           #to retrieve only rating value we need to get 1 index values\n",
    "            price=article.find('p',class_='price_color').text     #finding the price values, those are under p tags with class of price_color and filter it's text value\n",
    "            price=float(price[1:])             #text values are return with strings. we need to change it's type as float to store in csv\n",
    "            availability=article.find('p',class_='instock availability').text\n",
    "            availability=availability.strip()    #remove unnessary spaces \n",
    "\n",
    "            books.append([title,star,price,availability])\n",
    "        \n",
    "            data=[title,star,price,availability]\n",
    "\n",
    "            with open('books_Web_Scraper_Dataset.csv','a+',newline='',encoding='UTF8') as f:    #appending all the data into the csv file\n",
    "                writer=csv.writer(f)\n",
    "                writer.writerow(data)\n",
    "\n",
    "\n",
    "            if price<50:                      #sending a mail for user if price is reduced\n",
    "                send_mail()\n",
    "        \n",
    "    "
   ]
  },
  {
   "attachments": {},
   "cell_type": "markdown",
   "metadata": {},
   "source": [
    "#### Method 2 for load data into csv"
   ]
  },
  {
   "cell_type": "code",
   "execution_count": 113,
   "metadata": {},
   "outputs": [],
   "source": [
    "#making Dataframes\n",
    "book_details()\n",
    "\n",
    "df=pd.DataFrame(books,columns=headers)"
   ]
  },
  {
   "cell_type": "code",
   "execution_count": 114,
   "metadata": {},
   "outputs": [
    {
     "data": {
      "text/html": [
       "<div>\n",
       "<style scoped>\n",
       "    .dataframe tbody tr th:only-of-type {\n",
       "        vertical-align: middle;\n",
       "    }\n",
       "\n",
       "    .dataframe tbody tr th {\n",
       "        vertical-align: top;\n",
       "    }\n",
       "\n",
       "    .dataframe thead th {\n",
       "        text-align: right;\n",
       "    }\n",
       "</style>\n",
       "<table border=\"1\" class=\"dataframe\">\n",
       "  <thead>\n",
       "    <tr style=\"text-align: right;\">\n",
       "      <th></th>\n",
       "      <th>Title</th>\n",
       "      <th>Star</th>\n",
       "      <th>Price</th>\n",
       "      <th>Availability</th>\n",
       "    </tr>\n",
       "  </thead>\n",
       "  <tbody>\n",
       "    <tr>\n",
       "      <th>0</th>\n",
       "      <td>A Light in the Attic</td>\n",
       "      <td>Three</td>\n",
       "      <td>51.77</td>\n",
       "      <td>In stock</td>\n",
       "    </tr>\n",
       "    <tr>\n",
       "      <th>1</th>\n",
       "      <td>Tipping the Velvet</td>\n",
       "      <td>One</td>\n",
       "      <td>53.74</td>\n",
       "      <td>In stock</td>\n",
       "    </tr>\n",
       "    <tr>\n",
       "      <th>2</th>\n",
       "      <td>Soumission</td>\n",
       "      <td>One</td>\n",
       "      <td>50.10</td>\n",
       "      <td>In stock</td>\n",
       "    </tr>\n",
       "    <tr>\n",
       "      <th>3</th>\n",
       "      <td>Sharp Objects</td>\n",
       "      <td>Four</td>\n",
       "      <td>47.82</td>\n",
       "      <td>In stock</td>\n",
       "    </tr>\n",
       "    <tr>\n",
       "      <th>4</th>\n",
       "      <td>Sapiens: A Brief History of Humankind</td>\n",
       "      <td>Five</td>\n",
       "      <td>54.23</td>\n",
       "      <td>In stock</td>\n",
       "    </tr>\n",
       "  </tbody>\n",
       "</table>\n",
       "</div>"
      ],
      "text/plain": [
       "                                   Title   Star  Price Availability\n",
       "0                   A Light in the Attic  Three  51.77     In stock\n",
       "1                     Tipping the Velvet    One  53.74     In stock\n",
       "2                             Soumission    One  50.10     In stock\n",
       "3                          Sharp Objects   Four  47.82     In stock\n",
       "4  Sapiens: A Brief History of Humankind   Five  54.23     In stock"
      ]
     },
     "execution_count": 114,
     "metadata": {},
     "output_type": "execute_result"
    }
   ],
   "source": [
    "df.head()"
   ]
  },
  {
   "cell_type": "code",
   "execution_count": 115,
   "metadata": {},
   "outputs": [],
   "source": [
    "# convert dataframe into csv file format\n",
    "\n",
    "df.to_csv('books.csv')\n"
   ]
  },
  {
   "cell_type": "code",
   "execution_count": 116,
   "metadata": {},
   "outputs": [
    {
     "ename": "KeyboardInterrupt",
     "evalue": "",
     "output_type": "error",
     "traceback": [
      "\u001b[1;31m---------------------------------------------------------------------------\u001b[0m",
      "\u001b[1;31mKeyboardInterrupt\u001b[0m                         Traceback (most recent call last)",
      "Cell \u001b[1;32mIn[116], line 3\u001b[0m\n\u001b[0;32m      1\u001b[0m \u001b[39m#Automate the process in every single day and update the csv file\u001b[39;00m\n\u001b[0;32m      2\u001b[0m \u001b[39mwhile\u001b[39;00m \u001b[39mTrue\u001b[39;00m:                           \n\u001b[1;32m----> 3\u001b[0m     book_details()\n\u001b[0;32m      4\u001b[0m     time\u001b[39m.\u001b[39msleep(\u001b[39m3600\u001b[39m)\n",
      "Cell \u001b[1;32mIn[109], line 38\u001b[0m, in \u001b[0;36mbook_details\u001b[1;34m()\u001b[0m\n\u001b[0;32m     34\u001b[0m         writer\u001b[39m.\u001b[39mwriterow(data)\n\u001b[0;32m     37\u001b[0m \u001b[39mif\u001b[39;00m price\u001b[39m<\u001b[39m\u001b[39m50\u001b[39m:                      \u001b[39m#sending a mail for user if price is reduced\u001b[39;00m\n\u001b[1;32m---> 38\u001b[0m     send_mail()\n",
      "Cell \u001b[1;32mIn[94], line 31\u001b[0m, in \u001b[0;36msend_mail\u001b[1;34m()\u001b[0m\n\u001b[0;32m     29\u001b[0m \u001b[39mwith\u001b[39;00m smtplib\u001b[39m.\u001b[39mSMTP_SSL(\u001b[39m'\u001b[39m\u001b[39msmtp.gmail.com\u001b[39m\u001b[39m'\u001b[39m,\u001b[39m465\u001b[39m,context\u001b[39m=\u001b[39mcontext) \u001b[39mas\u001b[39;00m smtp:\n\u001b[0;32m     30\u001b[0m     smtp\u001b[39m.\u001b[39mlogin(email_sender,email_pasword)\n\u001b[1;32m---> 31\u001b[0m     smtp\u001b[39m.\u001b[39;49msendmail(email_sender,email_receiver,em\u001b[39m.\u001b[39;49mas_string())\n",
      "File \u001b[1;32mc:\\Users\\tuanminhaj\\AppData\\Local\\Programs\\Python\\Python311\\Lib\\smtplib.py:902\u001b[0m, in \u001b[0;36mSMTP.sendmail\u001b[1;34m(self, from_addr, to_addrs, msg, mail_options, rcpt_options)\u001b[0m\n\u001b[0;32m    900\u001b[0m     \u001b[39mself\u001b[39m\u001b[39m.\u001b[39m_rset()\n\u001b[0;32m    901\u001b[0m     \u001b[39mraise\u001b[39;00m SMTPRecipientsRefused(senderrs)\n\u001b[1;32m--> 902\u001b[0m (code, resp) \u001b[39m=\u001b[39m \u001b[39mself\u001b[39;49m\u001b[39m.\u001b[39;49mdata(msg)\n\u001b[0;32m    903\u001b[0m \u001b[39mif\u001b[39;00m code \u001b[39m!=\u001b[39m \u001b[39m250\u001b[39m:\n\u001b[0;32m    904\u001b[0m     \u001b[39mif\u001b[39;00m code \u001b[39m==\u001b[39m \u001b[39m421\u001b[39m:\n",
      "File \u001b[1;32mc:\\Users\\tuanminhaj\\AppData\\Local\\Programs\\Python\\Python311\\Lib\\smtplib.py:580\u001b[0m, in \u001b[0;36mSMTP.data\u001b[1;34m(self, msg)\u001b[0m\n\u001b[0;32m    578\u001b[0m q \u001b[39m=\u001b[39m q \u001b[39m+\u001b[39m \u001b[39mb\u001b[39m\u001b[39m\"\u001b[39m\u001b[39m.\u001b[39m\u001b[39m\"\u001b[39m \u001b[39m+\u001b[39m bCRLF\n\u001b[0;32m    579\u001b[0m \u001b[39mself\u001b[39m\u001b[39m.\u001b[39msend(q)\n\u001b[1;32m--> 580\u001b[0m (code, msg) \u001b[39m=\u001b[39m \u001b[39mself\u001b[39;49m\u001b[39m.\u001b[39;49mgetreply()\n\u001b[0;32m    581\u001b[0m \u001b[39mif\u001b[39;00m \u001b[39mself\u001b[39m\u001b[39m.\u001b[39mdebuglevel \u001b[39m>\u001b[39m \u001b[39m0\u001b[39m:\n\u001b[0;32m    582\u001b[0m     \u001b[39mself\u001b[39m\u001b[39m.\u001b[39m_print_debug(\u001b[39m'\u001b[39m\u001b[39mdata:\u001b[39m\u001b[39m'\u001b[39m, (code, msg))\n",
      "File \u001b[1;32mc:\\Users\\tuanminhaj\\AppData\\Local\\Programs\\Python\\Python311\\Lib\\smtplib.py:398\u001b[0m, in \u001b[0;36mSMTP.getreply\u001b[1;34m(self)\u001b[0m\n\u001b[0;32m    396\u001b[0m \u001b[39mwhile\u001b[39;00m \u001b[39m1\u001b[39m:\n\u001b[0;32m    397\u001b[0m     \u001b[39mtry\u001b[39;00m:\n\u001b[1;32m--> 398\u001b[0m         line \u001b[39m=\u001b[39m \u001b[39mself\u001b[39m\u001b[39m.\u001b[39mfile\u001b[39m.\u001b[39mreadline(_MAXLINE \u001b[39m+\u001b[39m \u001b[39m1\u001b[39m)\n\u001b[0;32m    399\u001b[0m     \u001b[39mexcept\u001b[39;00m \u001b[39mOSError\u001b[39;00m \u001b[39mas\u001b[39;00m e:\n\u001b[0;32m    400\u001b[0m         \u001b[39mself\u001b[39m\u001b[39m.\u001b[39mclose()\n",
      "File \u001b[1;32mc:\\Users\\tuanminhaj\\AppData\\Local\\Programs\\Python\\Python311\\Lib\\socket.py:706\u001b[0m, in \u001b[0;36mSocketIO.readinto\u001b[1;34m(self, b)\u001b[0m\n\u001b[0;32m    704\u001b[0m \u001b[39mwhile\u001b[39;00m \u001b[39mTrue\u001b[39;00m:\n\u001b[0;32m    705\u001b[0m     \u001b[39mtry\u001b[39;00m:\n\u001b[1;32m--> 706\u001b[0m         \u001b[39mreturn\u001b[39;00m \u001b[39mself\u001b[39;49m\u001b[39m.\u001b[39;49m_sock\u001b[39m.\u001b[39;49mrecv_into(b)\n\u001b[0;32m    707\u001b[0m     \u001b[39mexcept\u001b[39;00m timeout:\n\u001b[0;32m    708\u001b[0m         \u001b[39mself\u001b[39m\u001b[39m.\u001b[39m_timeout_occurred \u001b[39m=\u001b[39m \u001b[39mTrue\u001b[39;00m\n",
      "File \u001b[1;32mc:\\Users\\tuanminhaj\\AppData\\Local\\Programs\\Python\\Python311\\Lib\\ssl.py:1278\u001b[0m, in \u001b[0;36mSSLSocket.recv_into\u001b[1;34m(self, buffer, nbytes, flags)\u001b[0m\n\u001b[0;32m   1274\u001b[0m     \u001b[39mif\u001b[39;00m flags \u001b[39m!=\u001b[39m \u001b[39m0\u001b[39m:\n\u001b[0;32m   1275\u001b[0m         \u001b[39mraise\u001b[39;00m \u001b[39mValueError\u001b[39;00m(\n\u001b[0;32m   1276\u001b[0m           \u001b[39m\"\u001b[39m\u001b[39mnon-zero flags not allowed in calls to recv_into() on \u001b[39m\u001b[39m%s\u001b[39;00m\u001b[39m\"\u001b[39m \u001b[39m%\u001b[39m\n\u001b[0;32m   1277\u001b[0m           \u001b[39mself\u001b[39m\u001b[39m.\u001b[39m\u001b[39m__class__\u001b[39m)\n\u001b[1;32m-> 1278\u001b[0m     \u001b[39mreturn\u001b[39;00m \u001b[39mself\u001b[39;49m\u001b[39m.\u001b[39;49mread(nbytes, buffer)\n\u001b[0;32m   1279\u001b[0m \u001b[39melse\u001b[39;00m:\n\u001b[0;32m   1280\u001b[0m     \u001b[39mreturn\u001b[39;00m \u001b[39msuper\u001b[39m()\u001b[39m.\u001b[39mrecv_into(buffer, nbytes, flags)\n",
      "File \u001b[1;32mc:\\Users\\tuanminhaj\\AppData\\Local\\Programs\\Python\\Python311\\Lib\\ssl.py:1134\u001b[0m, in \u001b[0;36mSSLSocket.read\u001b[1;34m(self, len, buffer)\u001b[0m\n\u001b[0;32m   1132\u001b[0m \u001b[39mtry\u001b[39;00m:\n\u001b[0;32m   1133\u001b[0m     \u001b[39mif\u001b[39;00m buffer \u001b[39mis\u001b[39;00m \u001b[39mnot\u001b[39;00m \u001b[39mNone\u001b[39;00m:\n\u001b[1;32m-> 1134\u001b[0m         \u001b[39mreturn\u001b[39;00m \u001b[39mself\u001b[39;49m\u001b[39m.\u001b[39;49m_sslobj\u001b[39m.\u001b[39;49mread(\u001b[39mlen\u001b[39;49m, buffer)\n\u001b[0;32m   1135\u001b[0m     \u001b[39melse\u001b[39;00m:\n\u001b[0;32m   1136\u001b[0m         \u001b[39mreturn\u001b[39;00m \u001b[39mself\u001b[39m\u001b[39m.\u001b[39m_sslobj\u001b[39m.\u001b[39mread(\u001b[39mlen\u001b[39m)\n",
      "\u001b[1;31mKeyboardInterrupt\u001b[0m: "
     ]
    }
   ],
   "source": [
    "#Automate the process in every single day and update the csv file\n",
    "while True:                           \n",
    "    book_details()\n",
    "    time.sleep(3600)"
   ]
  },
  {
   "cell_type": "code",
   "execution_count": null,
   "metadata": {},
   "outputs": [],
   "source": []
  }
 ],
 "metadata": {
  "kernelspec": {
   "display_name": "Python 3",
   "language": "python",
   "name": "python3"
  },
  "language_info": {
   "codemirror_mode": {
    "name": "ipython",
    "version": 3
   },
   "file_extension": ".py",
   "mimetype": "text/x-python",
   "name": "python",
   "nbconvert_exporter": "python",
   "pygments_lexer": "ipython3",
   "version": "3.11.1"
  },
  "orig_nbformat": 4
 },
 "nbformat": 4,
 "nbformat_minor": 2
}
