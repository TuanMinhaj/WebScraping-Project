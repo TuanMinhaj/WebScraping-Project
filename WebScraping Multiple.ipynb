{
 "cells": [
  {
   "cell_type": "code",
   "execution_count": 79,
   "metadata": {},
   "outputs": [],
   "source": [
    "#import nessary libraries\n",
    "\n",
    "from bs4 import BeautifulSoup as bs\n",
    "import requests       \n",
    "import smtplib        #sending emails\n",
    "import time\n",
    "import datetime\n",
    "import csv\n",
    "import pandas as pd    #making Dataframes\n"
   ]
  },
  {
   "attachments": {},
   "cell_type": "markdown",
   "metadata": {},
   "source": [
    "#### Method 01 for load data into csv"
   ]
  },
  {
   "cell_type": "code",
   "execution_count": 97,
   "metadata": {},
   "outputs": [],
   "source": [
    "#initiate a csv file to load the scraped data\n",
    "headers=['Title','Star','Price','Availability']\n",
    "with open('books_Web_Scraper_Dataset.csv','w',newline='',encoding='UTF8') as f:\n",
    "    writer=csv.writer(f)\n",
    "    writer.writerow(headers)"
   ]
  },
  {
   "cell_type": "code",
   "execution_count": 98,
   "metadata": {},
   "outputs": [],
   "source": [
    "#connecting to the website and scrape all the data from the website and take into local\n",
    "books=[]\n",
    "for i in range(1,51):\n",
    "    url=f'https://books.toscrape.com/catalogue/page-{i}.html'\n",
    "    # print(url)\n",
    "\n",
    "    page=requests.get(url)\n",
    "    soup1=bs(page.content,\"html.parser\")   #pulling all the html from the website\n",
    "    \n",
    "    #find searching under tag name of ol(order_list) and find by article with required class\n",
    "    order_list=soup1.find('ol')\n",
    "    articles=order_list.find_all('article',class_='product_pod')\n",
    "\n",
    "    \n",
    "    \n",
    "    #retrieve all the titles inside the articles and taking the all titles in the first page\n",
    "    for article in articles:        #looping through each articles\n",
    "        image=article.find('img')       #find all img tags\n",
    "        title=image.attrs['alt']        #filter out the title with it attributes\n",
    "        star=article.find('p')          #star ratings are under p tags we can straight scrape it\n",
    "        star=star['class'][1]           #to retrieve only rating value we need to get 1 index values\n",
    "        price=article.find('p',class_='price_color').text     #finding the price values, those are under p tags with class of price_color and filter it's text value\n",
    "        price=float(price[1:])             #text values are return with strings. we need to change it's type as float to store in csv\n",
    "        availability=article.find('p',class_='instock availability').text\n",
    "        availability=availability.strip()    #remove unnessary spaces \n",
    "\n",
    "        books.append([title,star,price,availability])\n",
    "    \n",
    "        data=[title,star,price,availability]\n",
    "\n",
    "        with open('books_Web_Scraper_Dataset.csv','a+',newline='',encoding='UTF8') as f:\n",
    "            writer=csv.writer(f)\n",
    "            writer.writerow(data)\n"
   ]
  },
  {
   "attachments": {},
   "cell_type": "markdown",
   "metadata": {},
   "source": [
    "#### Method 2 for load data into csv"
   ]
  },
  {
   "cell_type": "code",
   "execution_count": 105,
   "metadata": {},
   "outputs": [],
   "source": [
    "#making Dataframes\n",
    "\n",
    "df=pd.DataFrame(books,columns=headers)"
   ]
  },
  {
   "cell_type": "code",
   "execution_count": 108,
   "metadata": {},
   "outputs": [
    {
     "data": {
      "text/html": [
       "<div>\n",
       "<style scoped>\n",
       "    .dataframe tbody tr th:only-of-type {\n",
       "        vertical-align: middle;\n",
       "    }\n",
       "\n",
       "    .dataframe tbody tr th {\n",
       "        vertical-align: top;\n",
       "    }\n",
       "\n",
       "    .dataframe thead th {\n",
       "        text-align: right;\n",
       "    }\n",
       "</style>\n",
       "<table border=\"1\" class=\"dataframe\">\n",
       "  <thead>\n",
       "    <tr style=\"text-align: right;\">\n",
       "      <th></th>\n",
       "      <th>Title</th>\n",
       "      <th>Star</th>\n",
       "      <th>Price</th>\n",
       "      <th>Availability</th>\n",
       "    </tr>\n",
       "  </thead>\n",
       "  <tbody>\n",
       "    <tr>\n",
       "      <th>0</th>\n",
       "      <td>A Light in the Attic</td>\n",
       "      <td>Three</td>\n",
       "      <td>51.77</td>\n",
       "      <td>In stock</td>\n",
       "    </tr>\n",
       "    <tr>\n",
       "      <th>1</th>\n",
       "      <td>Tipping the Velvet</td>\n",
       "      <td>One</td>\n",
       "      <td>53.74</td>\n",
       "      <td>In stock</td>\n",
       "    </tr>\n",
       "    <tr>\n",
       "      <th>2</th>\n",
       "      <td>Soumission</td>\n",
       "      <td>One</td>\n",
       "      <td>50.10</td>\n",
       "      <td>In stock</td>\n",
       "    </tr>\n",
       "    <tr>\n",
       "      <th>3</th>\n",
       "      <td>Sharp Objects</td>\n",
       "      <td>Four</td>\n",
       "      <td>47.82</td>\n",
       "      <td>In stock</td>\n",
       "    </tr>\n",
       "    <tr>\n",
       "      <th>4</th>\n",
       "      <td>Sapiens: A Brief History of Humankind</td>\n",
       "      <td>Five</td>\n",
       "      <td>54.23</td>\n",
       "      <td>In stock</td>\n",
       "    </tr>\n",
       "  </tbody>\n",
       "</table>\n",
       "</div>"
      ],
      "text/plain": [
       "                                   Title   Star  Price Availability\n",
       "0                   A Light in the Attic  Three  51.77     In stock\n",
       "1                     Tipping the Velvet    One  53.74     In stock\n",
       "2                             Soumission    One  50.10     In stock\n",
       "3                          Sharp Objects   Four  47.82     In stock\n",
       "4  Sapiens: A Brief History of Humankind   Five  54.23     In stock"
      ]
     },
     "execution_count": 108,
     "metadata": {},
     "output_type": "execute_result"
    }
   ],
   "source": [
    "df.head()"
   ]
  },
  {
   "cell_type": "code",
   "execution_count": 107,
   "metadata": {},
   "outputs": [],
   "source": [
    "# convert dataframe into csv file format\n",
    "\n",
    "df.to_csv('books.csv')\n"
   ]
  },
  {
   "cell_type": "code",
   "execution_count": null,
   "metadata": {},
   "outputs": [],
   "source": []
  }
 ],
 "metadata": {
  "kernelspec": {
   "display_name": "Python 3",
   "language": "python",
   "name": "python3"
  },
  "language_info": {
   "codemirror_mode": {
    "name": "ipython",
    "version": 3
   },
   "file_extension": ".py",
   "mimetype": "text/x-python",
   "name": "python",
   "nbconvert_exporter": "python",
   "pygments_lexer": "ipython3",
   "version": "3.11.1"
  },
  "orig_nbformat": 4
 },
 "nbformat": 4,
 "nbformat_minor": 2
}
